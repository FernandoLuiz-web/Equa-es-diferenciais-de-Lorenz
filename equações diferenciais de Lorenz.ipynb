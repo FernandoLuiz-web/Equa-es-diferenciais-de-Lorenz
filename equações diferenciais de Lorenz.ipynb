{
 "cells": [
  {
   "cell_type": "markdown",
   "id": "258aa0e3",
   "metadata": {},
   "source": [
    "# Explorando o sistema de equações diferenciais de Lorenz\n",
    "<br>\n",
    "\n",
    "Neste *Notebook* exploramos o sistema de equações diferenciais de Lorenz:\n",
    "\n",
    "<br>\n",
    "<br>\n",
    "\n",
    "\\begin{align}\n",
    "\\dot{x} & = \\sigma(y-x) \\\\\n",
    "\\dot{y} & = \\rho x - y - xz \\\\\n",
    "\\dot{z} & = -\\beta z + xy\n",
    "\\end{align}\n",
    "\n",
    "<br>\n",
    "<br>\n",
    "\n",
    "Este é um dos sistemas clássicos em equações diferenciais não lineares. Exibe uma gama de comportamentos diferentes à medida que os parâmetros (σ, β, ρ) são variados.\n",
    "\n",
    "<br>\n",
    "<br>\n",
    "\n",
    "## Imports\n",
    "\n",
    "<br>\n",
    "\n",
    "Primeiro, importamos as coisas necessárias do IPython, NumPy, Matplotlib e SciPy."
   ]
  },
  {
   "cell_type": "code",
   "execution_count": 14,
   "id": "ac8da8fa",
   "metadata": {},
   "outputs": [],
   "source": [
    "# Imports for JupyterLite\n",
    "try:\n",
    "    import piplite\n",
    "    await piplite.install(['ipywidgets', 'matplotlib', 'numpy', 'scipy'])\n",
    "except ImportError as err:\n",
    "    pass\n",
    "    \n",
    "%matplotlib inline\n",
    "\n",
    "from ipywidgets import interact, interactive\n",
    "from IPython.display import clear_output, display, HTML\n",
    "\n",
    "import numpy as np\n",
    "from scipy import integrate\n",
    "\n",
    "from matplotlib import pyplot as plt\n",
    "from mpl_toolkits.mplot3d import Axes3D\n",
    "from matplotlib.colors import cnames\n",
    "from matplotlib import animation"
   ]
  },
  {
   "cell_type": "markdown",
   "id": "8622eb0b",
   "metadata": {},
   "source": [
    "## Calculando as trajetórias e *plotando* o resultado\n",
    "\n",
    "<br>\n",
    "<br>\n",
    "\n",
    "Definimos uma função que pode integrar as equações diferenciais numericamente e então traçar as soluções. Esta função possui argumentos que controlam os parâmetros da equação diferencial (σ, β, ρ), a integração numérica (N, *max_time*) e a visualização (*angle*)."
   ]
  },
  {
   "cell_type": "code",
   "execution_count": 9,
   "id": "88eea241",
   "metadata": {},
   "outputs": [],
   "source": [
    "def solve_lorenz(N=10, angle=0.0, max_time=4.0, sigma=10.0, beta=8./3, rho=28.0):\n",
    "\n",
    "    fig = plt.figure()\n",
    "    ax = fig.add_axes([0, 0, 1, 1], projection='3d')\n",
    "    ax.axis('off')\n",
    "\n",
    "    # prepare the axes limits\n",
    "    ax.set_xlim((-25, 25))\n",
    "    ax.set_ylim((-35, 35))\n",
    "    ax.set_zlim((5, 55))\n",
    "    \n",
    "    def lorenz_deriv(x_y_z, t0, sigma=sigma, beta=beta, rho=rho):\n",
    "        \"\"\"Compute the time-derivative of a Lorenz system.\"\"\"\n",
    "        x, y, z = x_y_z\n",
    "        return [sigma * (y - x), x * (rho - z) - y, x * y - beta * z]\n",
    "\n",
    "    # Choose random starting points, uniformly distributed from -15 to 15\n",
    "    np.random.seed(1)\n",
    "    x0 = -15 + 30 * np.random.random((N, 3))\n",
    "\n",
    "    # Solve for the trajectories\n",
    "    t = np.linspace(0, max_time, int(250*max_time))\n",
    "    x_t = np.asarray([integrate.odeint(lorenz_deriv, x0i, t)\n",
    "                      for x0i in x0])\n",
    "    \n",
    "    # choose a different color for each trajectory\n",
    "    colors = plt.cm.viridis(np.linspace(0, 1, N))\n",
    "\n",
    "    for i in range(N):\n",
    "        x, y, z = x_t[i,:,:].T\n",
    "        lines = ax.plot(x, y, z, '-', c=colors[i])\n",
    "        plt.setp(lines, linewidth=2)\n",
    "\n",
    "    ax.view_init(30, angle)\n",
    "    plt.show()\n",
    "\n",
    "    return t, x_t"
   ]
  },
  {
   "cell_type": "markdown",
   "id": "1b99d150",
   "metadata": {},
   "source": [
    "Vamos chamar a função uma vez para ver as soluções. Para este conjunto de parâmetros, vemos as trajetórias girando em torno de dois pontos, chamados atratores.\n",
    "\n",
    "<br>\n",
    "\n",
    "Usando a função interativa do IPython, podemos explorar como as trajetórias se comportam à medida que alteramos os vários parâmetros."
   ]
  },
  {
   "cell_type": "code",
   "execution_count": 10,
   "id": "29a7a2bb",
   "metadata": {},
   "outputs": [
    {
     "data": {
      "application/vnd.jupyter.widget-view+json": {
       "model_id": "c4a83959c484416f89b56963f7f0f491",
       "version_major": 2,
       "version_minor": 0
      },
      "text/plain": [
       "interactive(children=(IntSlider(value=10, description='N', max=50), FloatSlider(value=0.0, description='angle'…"
      ]
     },
     "metadata": {},
     "output_type": "display_data"
    }
   ],
   "source": [
    "w = interactive(solve_lorenz, angle=(0.,360.), max_time=(0.1, 12.0), \n",
    "                N=(0,50), sigma=(0.0,50.0), rho=(0.0,50.0))\n",
    "\n",
    "display(w)"
   ]
  },
  {
   "cell_type": "markdown",
   "id": "89ef06bb",
   "metadata": {},
   "source": [
    "O objeto retornado por *interactive* é um objeto *Widget* e possui atributos que contêm o resultado e os argumentos atuais:"
   ]
  },
  {
   "cell_type": "code",
   "execution_count": 11,
   "id": "ae777cbe",
   "metadata": {},
   "outputs": [],
   "source": [
    "t, x_t = w.result"
   ]
  },
  {
   "cell_type": "markdown",
   "id": "45d051ec",
   "metadata": {},
   "source": [
    "Depois de interagir com o sistema, podemos obter o resultado e realizar mais cálculos. Nesse caso, calculamos as posições médias em x, y e z.\n",
    "\n",
    "<br>\n",
    "<br>\n",
    "\n",
    "A criação de histogramas das posições médias (em diferentes trajetórias) mostra que, em média, as trajetórias giram em torno dos atratores."
   ]
  },
  {
   "cell_type": "code",
   "execution_count": 12,
   "id": "ddcab4d5",
   "metadata": {},
   "outputs": [
    {
     "data": {
      "image/png": "[encoded data removed]",
      "text/plain": [
       "<Figure size 432x288 with 1 Axes>"
      ]
     },
     "metadata": {
      "needs_background": "light"
     },
     "output_type": "display_data"
    }
   ],
   "source": [
    "xyz_avg = x_t.mean(axis=1)\n",
    "\n",
    "xyz_avg.shape\n",
    "\n",
    "plt.hist(xyz_avg[:,1])\n",
    "plt.title('Average $x(t)$');"
   ]
  }
 ],
 "metadata": {
  "kernelspec": {
   "display_name": "Python 3",
   "language": "python",
   "name": "python3"
  },
  "language_info": {
   "codemirror_mode": {
    "name": "ipython",
    "version": 3
   },
   "file_extension": ".py",
   "mimetype": "text/x-python",
   "name": "python",
   "nbconvert_exporter": "python",
   "pygments_lexer": "ipython3",
   "version": "3.8.8"
  }
 },
 "nbformat": 4,
 "nbformat_minor": 5
}
